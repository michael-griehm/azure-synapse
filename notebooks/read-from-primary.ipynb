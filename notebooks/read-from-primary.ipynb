{
 "cells": [
  {
   "cell_type": "code",
   "execution_count": null,
   "metadata": {},
   "outputs": [],
   "source": [
    "from pyspark.sql import SparkSession \n",
    "from pyspark.sql.types import * \n",
    "\n",
    "# Primary storage info \n",
    "account_name = 'cryptoanalyticssynapse' # fill in your primary account name \n",
    "container_name = 'synapse-root' # fill in your container name \n",
    "relative_path = 'snowflake/2022/04/17' # fill in your relative folder path \n",
    "\n",
    "adls_path = 'abfss://%s@%s.dfs.core.windows.net/%s' % (container_name, account_name, relative_path) \n",
    "print('Primary storage account path: ' + adls_path) \n"
   ]
  },
  {
   "cell_type": "code",
   "execution_count": null,
   "metadata": {},
   "outputs": [],
   "source": [
    "# Read a parquet file \n",
    "df_parquet = spark.read.parquet(adls_path) "
   ]
  }
 ],
 "metadata": {
  "language_info": {
   "name": "python"
  },
  "orig_nbformat": 4
 },
 "nbformat": 4,
 "nbformat_minor": 2
}
